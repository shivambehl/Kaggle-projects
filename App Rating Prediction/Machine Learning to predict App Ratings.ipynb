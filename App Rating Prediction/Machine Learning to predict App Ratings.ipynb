{
 "cells": [
  {
   "cell_type": "markdown",
   "metadata": {},
   "source": [
    "## Machine Learning to predict App Ratings"
   ]
  },
  {
   "cell_type": "markdown",
   "metadata": {},
   "source": [
    "### Data Cleaning"
   ]
  },
  {
   "cell_type": "code",
   "execution_count": 129,
   "metadata": {},
   "outputs": [],
   "source": [
    "import pandas as pd\n",
    "import numpy as np\n",
    "import seaborn as sns\n",
    "from sklearn import metrics\n",
    "from sklearn.model_selection import train_test_split\n",
    "import random\n",
    "import matplotlib.pyplot as plt\n",
    "import seaborn as sns\n",
    "\n",
    "%matplotlib inline"
   ]
  },
  {
   "cell_type": "code",
   "execution_count": 130,
   "metadata": {},
   "outputs": [],
   "source": [
    "df = pd.read_csv('google_play_store_train.csv')"
   ]
  },
  {
   "cell_type": "code",
   "execution_count": 131,
   "metadata": {},
   "outputs": [
    {
     "name": "stdout",
     "output_type": "stream",
     "text": [
      "<class 'pandas.core.frame.DataFrame'>\n",
      "RangeIndex: 10474 entries, 0 to 10473\n",
      "Data columns (total 15 columns):\n",
      "App_ID            10474 non-null int64\n",
      "App               10474 non-null object\n",
      "Category          10474 non-null object\n",
      "Rating            9040 non-null float64\n",
      "Reviews           10474 non-null object\n",
      "Size              10474 non-null object\n",
      "Installs          10474 non-null object\n",
      "Type              10473 non-null object\n",
      "Price             10474 non-null object\n",
      "Content Rating    10473 non-null object\n",
      "Genres            10474 non-null object\n",
      "Last Updated      10474 non-null object\n",
      "Current Ver       10467 non-null object\n",
      "Android Ver       10471 non-null object\n",
      "Unnamed: 14       479 non-null object\n",
      "dtypes: float64(1), int64(1), object(13)\n",
      "memory usage: 1.2+ MB\n",
      "None\n"
     ]
    }
   ],
   "source": [
    "print(df.info())"
   ]
  },
  {
   "cell_type": "code",
   "execution_count": 132,
   "metadata": {},
   "outputs": [
    {
     "data": {
      "text/plain": [
       "10474"
      ]
     },
     "execution_count": 132,
     "metadata": {},
     "output_type": "execute_result"
    }
   ],
   "source": [
    "len(df)"
   ]
  },
  {
   "cell_type": "code",
   "execution_count": 133,
   "metadata": {},
   "outputs": [],
   "source": [
    "df = df.iloc[0:,0:-1]"
   ]
  },
  {
   "cell_type": "code",
   "execution_count": 134,
   "metadata": {},
   "outputs": [
    {
     "name": "stdout",
     "output_type": "stream",
     "text": [
      "<class 'pandas.core.frame.DataFrame'>\n",
      "RangeIndex: 10474 entries, 0 to 10473\n",
      "Data columns (total 14 columns):\n",
      "App_ID            10474 non-null int64\n",
      "App               10474 non-null object\n",
      "Category          10474 non-null object\n",
      "Rating            9040 non-null float64\n",
      "Reviews           10474 non-null object\n",
      "Size              10474 non-null object\n",
      "Installs          10474 non-null object\n",
      "Type              10473 non-null object\n",
      "Price             10474 non-null object\n",
      "Content Rating    10473 non-null object\n",
      "Genres            10474 non-null object\n",
      "Last Updated      10474 non-null object\n",
      "Current Ver       10467 non-null object\n",
      "Android Ver       10471 non-null object\n",
      "dtypes: float64(1), int64(1), object(12)\n",
      "memory usage: 1.1+ MB\n"
     ]
    }
   ],
   "source": [
    "df.info()"
   ]
  },
  {
   "cell_type": "code",
   "execution_count": 135,
   "metadata": {},
   "outputs": [],
   "source": [
    "df.dropna(inplace = True)"
   ]
  },
  {
   "cell_type": "code",
   "execution_count": 136,
   "metadata": {
    "scrolled": true
   },
   "outputs": [
    {
     "name": "stdout",
     "output_type": "stream",
     "text": [
      "<class 'pandas.core.frame.DataFrame'>\n",
      "Int64Index: 9034 entries, 0 to 10473\n",
      "Data columns (total 14 columns):\n",
      "App_ID            9034 non-null int64\n",
      "App               9034 non-null object\n",
      "Category          9034 non-null object\n",
      "Rating            9034 non-null float64\n",
      "Reviews           9034 non-null object\n",
      "Size              9034 non-null object\n",
      "Installs          9034 non-null object\n",
      "Type              9034 non-null object\n",
      "Price             9034 non-null object\n",
      "Content Rating    9034 non-null object\n",
      "Genres            9034 non-null object\n",
      "Last Updated      9034 non-null object\n",
      "Current Ver       9034 non-null object\n",
      "Android Ver       9034 non-null object\n",
      "dtypes: float64(1), int64(1), object(12)\n",
      "memory usage: 1.0+ MB\n"
     ]
    }
   ],
   "source": [
    "df.info()"
   ]
  },
  {
   "cell_type": "code",
   "execution_count": 137,
   "metadata": {},
   "outputs": [],
   "source": [
    "df['Category'] = pd.Categorical(df['Category'])\n",
    "df_dummies = pd.get_dummies(df['Category'], prefix = 'category')\n",
    "df = pd.concat([df, df_dummies], axis=1)"
   ]
  },
  {
   "cell_type": "code",
   "execution_count": 138,
   "metadata": {},
   "outputs": [],
   "source": [
    "df_dummies = pd.get_dummies(df['Content Rating'], prefix = 'category')\n",
    "df = pd.concat([df, df_dummies], axis = 1)"
   ]
  },
  {
   "cell_type": "code",
   "execution_count": 139,
   "metadata": {},
   "outputs": [],
   "source": [
    "df_dummies = pd.get_dummies(df['Genres'], prefix = 'category')\n",
    "df = pd.concat([df, df_dummies], axis = 1)"
   ]
  },
  {
   "cell_type": "code",
   "execution_count": 140,
   "metadata": {},
   "outputs": [],
   "source": [
    "def size_refiner(size):\n",
    "    x = None\n",
    "    if 'M' in size:\n",
    "        x = size[0:-1]\n",
    "        x = float(x)*1000000\n",
    "    elif 'k' == size[-1:]:\n",
    "        x = size[:-1]\n",
    "        x = float(x)*1000\n",
    "        return(x)\n",
    "    \n",
    "    return x\n",
    "\n",
    "\n",
    "df[\"Size\"] = df[\"Size\"].map(size_refiner)"
   ]
  },
  {
   "cell_type": "code",
   "execution_count": 141,
   "metadata": {
    "scrolled": false
   },
   "outputs": [],
   "source": [
    "df['Size'] = df.Size.fillna(method = 'ffill')"
   ]
  },
  {
   "cell_type": "code",
   "execution_count": 142,
   "metadata": {},
   "outputs": [],
   "source": [
    "df['Installs'] = [int(i[:-1].replace(',','')) for i in df['Installs']]"
   ]
  },
  {
   "cell_type": "code",
   "execution_count": 143,
   "metadata": {},
   "outputs": [],
   "source": [
    "def to_free_or_not_to_free(type):\n",
    "    if(type == 'Free'):\n",
    "        return 1\n",
    "    else:\n",
    "        return 0\n",
    "    \n",
    "df['Type'] = df['Type'].map(to_free_or_not_to_free)"
   ]
  },
  {
   "cell_type": "code",
   "execution_count": 144,
   "metadata": {},
   "outputs": [],
   "source": [
    "df.drop(labels = ['Last Updated','Current Ver','Android Ver','App', 'Category', 'Content Rating'], axis = 1, inplace = True)"
   ]
  },
  {
   "cell_type": "code",
   "execution_count": 145,
   "metadata": {
    "scrolled": true
   },
   "outputs": [],
   "source": [
    "def price_clean(price):\n",
    "    if price == '0':\n",
    "        return 0\n",
    "    else:\n",
    "        price = price[1:]\n",
    "        price = float(price)\n",
    "        return price\n",
    "\n",
    "df['Price'] = df['Price'].map(price_clean).astype(float)"
   ]
  },
  {
   "cell_type": "code",
   "execution_count": 146,
   "metadata": {},
   "outputs": [],
   "source": [
    "df['Reviews'] = df['Reviews'].astype(int)"
   ]
  },
  {
   "cell_type": "code",
   "execution_count": 147,
   "metadata": {},
   "outputs": [
    {
     "name": "stdout",
     "output_type": "stream",
     "text": [
      "<class 'pandas.core.frame.DataFrame'>\n",
      "Int64Index: 9034 entries, 0 to 10473\n",
      "Data columns (total 95 columns):\n",
      "App_ID                              9034 non-null int64\n",
      "Rating                              9034 non-null float64\n",
      "Reviews                             9034 non-null int32\n",
      "Size                                9034 non-null float64\n",
      "Installs                            9034 non-null int64\n",
      "Type                                9034 non-null int64\n",
      "Price                               9034 non-null float64\n",
      "Genres                              9034 non-null object\n",
      "category_ART_AND_DESIGN             9034 non-null uint8\n",
      "category_AUTO_AND_VEHICLES          9034 non-null uint8\n",
      "category_BEAUTY                     9034 non-null uint8\n",
      "category_BOOKS_AND_REFERENCE        9034 non-null uint8\n",
      "category_BUSINESS                   9034 non-null uint8\n",
      "category_COMICS                     9034 non-null uint8\n",
      "category_COMMUNICATION              9034 non-null uint8\n",
      "category_DATING                     9034 non-null uint8\n",
      "category_EDUCATION                  9034 non-null uint8\n",
      "category_ENTERTAINMENT              9034 non-null uint8\n",
      "category_EVENTS                     9034 non-null uint8\n",
      "category_FAMILY                     9034 non-null uint8\n",
      "category_FINANCE                    9034 non-null uint8\n",
      "category_FOOD_AND_DRINK             9034 non-null uint8\n",
      "category_GAME                       9034 non-null uint8\n",
      "category_HEALTH_AND_FITNESS         9034 non-null uint8\n",
      "category_HOUSE_AND_HOME             9034 non-null uint8\n",
      "category_LIBRARIES_AND_DEMO         9034 non-null uint8\n",
      "category_LIFESTYLE                  9034 non-null uint8\n",
      "category_MAPS_AND_NAVIGATION        9034 non-null uint8\n",
      "category_MEDICAL                    9034 non-null uint8\n",
      "category_NEWS_AND_MAGAZINES         9034 non-null uint8\n",
      "category_PARENTING                  9034 non-null uint8\n",
      "category_PERSONALIZATION            9034 non-null uint8\n",
      "category_PHOTOGRAPHY                9034 non-null uint8\n",
      "category_PRODUCTIVITY               9034 non-null uint8\n",
      "category_SHOPPING                   9034 non-null uint8\n",
      "category_SOCIAL                     9034 non-null uint8\n",
      "category_SPORTS                     9034 non-null uint8\n",
      "category_TOOLS                      9034 non-null uint8\n",
      "category_TRAVEL_AND_LOCAL           9034 non-null uint8\n",
      "category_VIDEO_PLAYERS              9034 non-null uint8\n",
      "category_WEATHER                    9034 non-null uint8\n",
      "category_Adults only 18+            9034 non-null uint8\n",
      "category_Everyone                   9034 non-null uint8\n",
      "category_Everyone 10+               9034 non-null uint8\n",
      "category_Mature 17+                 9034 non-null uint8\n",
      "category_Teen                       9034 non-null uint8\n",
      "category_Unrated                    9034 non-null uint8\n",
      "category_Action                     9034 non-null uint8\n",
      "category_Adventure                  9034 non-null uint8\n",
      "category_Arcade                     9034 non-null uint8\n",
      "category_Art & Design               9034 non-null uint8\n",
      "category_Auto & Vehicles            9034 non-null uint8\n",
      "category_Beauty                     9034 non-null uint8\n",
      "category_Board                      9034 non-null uint8\n",
      "category_Books & Reference          9034 non-null uint8\n",
      "category_Business                   9034 non-null uint8\n",
      "category_Card                       9034 non-null uint8\n",
      "category_Casino                     9034 non-null uint8\n",
      "category_Casual                     9034 non-null uint8\n",
      "category_Comics                     9034 non-null uint8\n",
      "category_Communication              9034 non-null uint8\n",
      "category_Dating                     9034 non-null uint8\n",
      "category_Education                  9034 non-null uint8\n",
      "category_Educational                9034 non-null uint8\n",
      "category_Entertainment              9034 non-null uint8\n",
      "category_Events                     9034 non-null uint8\n",
      "category_Finance                    9034 non-null uint8\n",
      "category_Food & Drink               9034 non-null uint8\n",
      "category_Health & Fitness           9034 non-null uint8\n",
      "category_House & Home               9034 non-null uint8\n",
      "category_Libraries & Demo           9034 non-null uint8\n",
      "category_Lifestyle                  9034 non-null uint8\n",
      "category_Maps & Navigation          9034 non-null uint8\n",
      "category_Medical                    9034 non-null uint8\n",
      "category_Music                      9034 non-null uint8\n",
      "category_Music & Audio              9034 non-null uint8\n",
      "category_News & Magazines           9034 non-null uint8\n",
      "category_Parenting                  9034 non-null uint8\n",
      "category_Personalization            9034 non-null uint8\n",
      "category_Photography                9034 non-null uint8\n",
      "category_Productivity               9034 non-null uint8\n",
      "category_Puzzle                     9034 non-null uint8\n",
      "category_Racing                     9034 non-null uint8\n",
      "category_Role Playing               9034 non-null uint8\n",
      "category_Shopping                   9034 non-null uint8\n",
      "category_Simulation                 9034 non-null uint8\n",
      "category_Social                     9034 non-null uint8\n",
      "category_Sports                     9034 non-null uint8\n",
      "category_Strategy                   9034 non-null uint8\n",
      "category_Tools                      9034 non-null uint8\n",
      "category_Travel & Local             9034 non-null uint8\n",
      "category_Trivia                     9034 non-null uint8\n",
      "category_Video Players & Editors    9034 non-null uint8\n",
      "category_Weather                    9034 non-null uint8\n",
      "category_Word                       9034 non-null uint8\n",
      "dtypes: float64(3), int32(1), int64(3), object(1), uint8(87)\n",
      "memory usage: 1.3+ MB\n"
     ]
    }
   ],
   "source": [
    "df.info()"
   ]
  },
  {
   "cell_type": "code",
   "execution_count": null,
   "metadata": {},
   "outputs": [],
   "source": []
  },
  {
   "cell_type": "code",
   "execution_count": null,
   "metadata": {},
   "outputs": [],
   "source": []
  },
  {
   "cell_type": "code",
   "execution_count": null,
   "metadata": {},
   "outputs": [],
   "source": []
  }
 ],
 "metadata": {
  "kernelspec": {
   "display_name": "Python 3",
   "language": "python",
   "name": "python3"
  },
  "language_info": {
   "codemirror_mode": {
    "name": "ipython",
    "version": 3
   },
   "file_extension": ".py",
   "mimetype": "text/x-python",
   "name": "python",
   "nbconvert_exporter": "python",
   "pygments_lexer": "ipython3",
   "version": "3.7.1"
  }
 },
 "nbformat": 4,
 "nbformat_minor": 2
}
